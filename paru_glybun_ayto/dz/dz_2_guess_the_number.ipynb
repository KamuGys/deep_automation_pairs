{
 "cells": [
  {
   "cell_type": "markdown",
   "id": "ffde3151",
   "metadata": {},
   "source": [
    "#регион от [-1000 до 1000] пользователь какое-то число целое загадал, задача программу замучать пользователя вопросами в виде: \n",
    "#взять середину региона и спросить больше или меньше заданного числа выбранного числа и так в цикле делить региона по полам, сужая область поиска, пока не найдём нужное число\n",
    "   "
   ]
  },
  {
   "cell_type": "code",
   "execution_count": 2,
   "id": "23aa58f1",
   "metadata": {},
   "outputs": [
    {
     "name": "stdout",
     "output_type": "stream",
     "text": [
      "Ваше число это:0?\n",
      "Ваше число это:501?\n",
      "Ваше число это:751?\n",
      "Ваше число это:626?\n",
      "Ваше число это:563?\n",
      "Ваше число это:594?\n",
      "Ваше число это:578?\n",
      "Ваше число это:586?\n",
      "Ваше число 586\n"
     ]
    }
   ],
   "source": [
    "user_number = int(input(\"Загадайте число:\"))     \n",
    "mun_numbers = -1000\n",
    "max_numbers = 1001\n",
    "while mun_numbers <= max_numbers:\n",
    "    ser: int = (mun_numbers + max_numbers)// 2\n",
    "    print(f\"Ваше число это:{ser}?\")\n",
    "    user_otvet = input(\"если ваше число число больше этого, поставьте +, если меньше, то -, если это загадонное число, то поставьте *:\")\n",
    "    if user_otvet == \"*\":\n",
    "        print(f'Ваше число {ser}')\n",
    "        break\n",
    "    elif user_otvet  == \"+\":\n",
    "        mun_numbers = ser+1\n",
    "    elif user_otvet  == \"-\":\n",
    "        max_numbers = ser-1\n",
    "    else:\n",
    "        print(\"Произошла ошибка неверного ввода, попробуйте ещё раз\")        \n",
    "        break"
   ]
  }
 ],
 "metadata": {
  "kernelspec": {
   "display_name": "Python 3",
   "language": "python",
   "name": "python3"
  },
  "language_info": {
   "codemirror_mode": {
    "name": "ipython",
    "version": 3
   },
   "file_extension": ".py",
   "mimetype": "text/x-python",
   "name": "python",
   "nbconvert_exporter": "python",
   "pygments_lexer": "ipython3",
   "version": "3.10.12"
  }
 },
 "nbformat": 4,
 "nbformat_minor": 5
}
