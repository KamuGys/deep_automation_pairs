{
 "cells": [
  {
   "cell_type": "markdown",
   "id": "9efc271f",
   "metadata": {},
   "source": [
    "кэшируем этот страшный код"
   ]
  },
  {
   "cell_type": "code",
   "execution_count": 2,
   "id": "136304f2",
   "metadata": {},
   "outputs": [
    {
     "name": "stdout",
     "output_type": "stream",
     "text": [
      "dz_6_new_fibonacci\n",
      "12 == 144.00000000000003\n",
      "Каша програмиста: {12: 144.00000000000003}\n"
     ]
    }
   ],
   "source": [
    "print('dz_6_new_fibonacci')\n",
    "import math\n",
    "ch={}\n",
    "def fiban(i):\n",
    "    if i==0:\n",
    "        return 0\n",
    "    elif i==1:\n",
    "        return 1\n",
    "    if i in ch:\n",
    "        return ch[i]\n",
    "\n",
    "    a=(1+math.sqrt(5))/2\n",
    "    b=(1-math.sqrt(5))/2\n",
    "    end1 = (pr(a,i)-pr(b,i)) / math.sqrt(5)\n",
    "    ch[i] = end1\n",
    "    return end1\n",
    "\n",
    "def pr(z,y):\n",
    "    if y==0:\n",
    "        return 1\n",
    "    return z*pr(z,y-1)\n",
    "c=int(input(\"Введите число, не букву, позязя:\"))\n",
    "print(f\"{c} == {fiban(c)}\")\n",
    "print(f\"Каша програмиста: {ch}\")"
   ]
  }
 ],
 "metadata": {
  "kernelspec": {
   "display_name": "Python 3",
   "language": "python",
   "name": "python3"
  },
  "language_info": {
   "codemirror_mode": {
    "name": "ipython",
    "version": 3
   },
   "file_extension": ".py",
   "mimetype": "text/x-python",
   "name": "python",
   "nbconvert_exporter": "python",
   "pygments_lexer": "ipython3",
   "version": "3.10.12"
  }
 },
 "nbformat": 4,
 "nbformat_minor": 5
}
