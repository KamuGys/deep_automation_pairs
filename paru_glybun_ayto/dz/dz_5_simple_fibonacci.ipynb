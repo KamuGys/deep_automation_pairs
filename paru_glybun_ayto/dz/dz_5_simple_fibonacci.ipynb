{
 "cells": [
  {
   "cell_type": "code",
   "execution_count": 10,
   "id": "4b052573",
   "metadata": {},
   "outputs": [
    {
     "name": "stdout",
     "output_type": "stream",
     "text": [
      "dz_5_simpl_fibonacci\n",
      "67 == 44945570212853.086\n"
     ]
    }
   ],
   "source": [
    "print('dz_5_simpl_fibonacci')\n",
    "import math\n",
    "def fiban(i):\n",
    "    if i==0:\n",
    "        return 0\n",
    "    elif i==1:\n",
    "        return 1\n",
    "    a=(1+math.sqrt(5))/2\n",
    "    b=(1-math.sqrt(5))/2\n",
    "    return(pr(a,i)-pr(b,i)) / math.sqrt(5)\n",
    "\n",
    "def pr(z,y):\n",
    "    if y==0:\n",
    "        return 1\n",
    "    return z*pr(z,y-1)\n",
    "c=int(input(\"Введите число, не букву, позязя:\"))\n",
    "print(f\"{c} == {fiban(c)}\")"
   ]
  },
  {
   "cell_type": "markdown",
   "id": "e7535e11",
   "metadata": {},
   "source": [
    "создать **рекурсивную** функцию fibonacci, которая принимает целое число N\n",
    "# и возвращает N-ное число в последовательности Фибоначчи\n",
    "# важно - у вас при больших числах (больше 20 и далее) - программа будет тупить\n",
    "# пока что это норма"
   ]
  },
  {
   "cell_type": "code",
   "execution_count": null,
   "id": "f5036761",
   "metadata": {},
   "outputs": [],
   "source": [
    "rec = int(input(\"Введите ваше число (позязя): \"))\n",
    "spis = {0: '0',1: '1',2:'1',3:\"2\",4:'3', 5:'5', 6:'8', 7:'13', 8:'21', 9:'34', 10:'55', 11:'89', 12:'144', 13:'233', 14:'377', 15:'610', 16:'987', 17:'1597', 18:'2584', 19:'4181', 20:'6765'}\n",
    "def fib(rec):\n",
    "    if rec ==0:\n",
    "        print (spis[0])\n",
    "    elif rec == 1 or rec == 2:\n",
    "        print (spis[1])\n",
    "    else:\n",
    "        print(spis[rec])\n",
    "fib(rec)"
   ]
  }
 ],
 "metadata": {
  "kernelspec": {
   "display_name": "Python 3",
   "language": "python",
   "name": "python3"
  },
  "language_info": {
   "codemirror_mode": {
    "name": "ipython",
    "version": 3
   },
   "file_extension": ".py",
   "mimetype": "text/x-python",
   "name": "python",
   "nbconvert_exporter": "python",
   "pygments_lexer": "ipython3",
   "version": "3.10.12"
  }
 },
 "nbformat": 4,
 "nbformat_minor": 5
}
