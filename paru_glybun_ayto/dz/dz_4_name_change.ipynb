{
 "cells": [
  {
   "cell_type": "code",
   "execution_count": 1,
   "id": "03e672db",
   "metadata": {},
   "outputs": [
    {
     "name": "stdout",
     "output_type": "stream",
     "text": [
      "Hello яКтО-То,нОнЕяМаШа\n"
     ]
    }
   ],
   "source": [
    "name = str(input(\"Введите любое имя на ваш вкус (позязя): \"))\n",
    "def change_names(name):\n",
    "    resilt =''\n",
    "    for i, sumv in enumerate(name):\n",
    "        if i% 2 ==1:\n",
    "            resilt += sumv.upper()\n",
    "        else: \n",
    "            resilt += sumv.lower()\n",
    "    return resilt\n",
    "\n",
    "def greet (name):\n",
    "    print(f\"Hello {name}\")\n",
    "\n",
    "new_name=change_names(name)\n",
    "greet(new_name)"
   ]
  }
 ],
 "metadata": {
  "kernelspec": {
   "display_name": "Python 3",
   "language": "python",
   "name": "python3"
  },
  "language_info": {
   "codemirror_mode": {
    "name": "ipython",
    "version": 3
   },
   "file_extension": ".py",
   "mimetype": "text/x-python",
   "name": "python",
   "nbconvert_exporter": "python",
   "pygments_lexer": "ipython3",
   "version": "3.10.12"
  }
 },
 "nbformat": 4,
 "nbformat_minor": 5
}
