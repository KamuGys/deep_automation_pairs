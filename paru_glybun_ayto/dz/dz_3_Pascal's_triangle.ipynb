{
 "cells": [
  {
   "cell_type": "code",
   "execution_count": 1,
   "id": "8b8ad3a9",
   "metadata": {},
   "outputs": [
    {
     "name": "stdout",
     "output_type": "stream",
     "text": [
      "1\n",
      "1 1\n",
      "1 2 1\n",
      "1 3 3 1\n",
      "1 4 6 4 1\n"
     ]
    }
   ],
   "source": [
    "user_nimber = int(input(\"Введите ваше число (позязя): \"))\n",
    "treyg =[]\n",
    "for i in range(user_nimber):\n",
    "    strok=[1]\n",
    "    if i > 0:\n",
    "        pred_strok= treyg[i-1]\n",
    "        for i2 in range(len(pred_strok)-1):\n",
    "            strok.append(pred_strok[i2] + pred_strok [i2+1])\n",
    "        strok.append(1)\n",
    "    treyg.append(strok)\n",
    "for strok in treyg:\n",
    "    strok_str = ' '.join(str(x) for x in strok)\n",
    "    print(strok_str)"
   ]
  },
  {
   "cell_type": "markdown",
   "id": "4de9a4f4",
   "metadata": {},
   "source": [
    "#вывести треугольник паскаля с нормальными пробелами с введённым числом до 9"
   ]
  }
 ],
 "metadata": {
  "kernelspec": {
   "display_name": "Python 3",
   "language": "python",
   "name": "python3"
  },
  "language_info": {
   "codemirror_mode": {
    "name": "ipython",
    "version": 3
   },
   "file_extension": ".py",
   "mimetype": "text/x-python",
   "name": "python",
   "nbconvert_exporter": "python",
   "pygments_lexer": "ipython3",
   "version": "3.10.12"
  }
 },
 "nbformat": 4,
 "nbformat_minor": 5
}
